{
  "cells": [
    {
      "cell_type": "markdown",
      "metadata": {
        "id": "dWcE-y-N-2fE"
      },
      "source": [
        "# Guess the number\n",
        "You need to write a program that guesses a number in the minimum number of attempts.\n",
        "\n",
        "## Competition conditions\n",
        "- The computer guesses an integer from 1 to 100, and we need to guess it. By “guess” we mean “write a program that guesses a number”.\n",
        "- The algorithm takes into account information about whether the random number is greater or less than what we need.\n",
        "- It is necessary to ensure that the program guesses the number in less than 20 attempts.\n"
      ]
    },
    {
      "cell_type": "markdown",
      "metadata": {
        "id": "4sShzLei_ClF"
      },
      "source": [
        "Let's import a library that will be useful for generating random numbers."
      ]
    },
    {
      "cell_type": "code",
      "execution_count": 9,
      "metadata": {
        "id": "KIy8PgXL-2fH"
      },
      "outputs": [],
      "source": [
        "import numpy as np"
      ]
    },
    {
      "cell_type": "markdown",
      "metadata": {
        "id": "GCu4m8fu_-al"
      },
      "source": [
        "## Function for evaluation"
      ]
    },
    {
      "cell_type": "markdown",
      "metadata": {
        "id": "7ZlAJ37fAJ99"
      },
      "source": [
        "This function is necessary to determine how many attempts it takes the program to guess our number."
      ]
    },
    {
      "cell_type": "code",
      "execution_count": 10,
      "metadata": {
        "id": "t4WXEDFS_ThY"
      },
      "outputs": [],
      "source": [
        "def score_game(random_predict) -> int:\n",
        "    \"\"\"ЗHow many attempts does our algorithm take to guess on average per 10,000 approaches\n",
        "\n",
        "    Args:\n",
        "        random_predict ([type]): guess function\n",
        "\n",
        "    Returns:\n",
        "        int: average number of attempts\n",
        "    \"\"\"\n",
        "    count_ls = []\n",
        "    #np.random.seed(1)  # fix the seed for reproducibility\n",
        "    random_array = np.random.randint(1, 101, size=(10000))  # guessed list of numbers\n",
        "\n",
        "    for number in random_array:\n",
        "        count_ls.append(random_predict(number))\n",
        "\n",
        "    score = int(np.mean(count_ls))\n",
        "    print(f\"Your algorithm guesses the number in an average of {score} attempts\")"
      ]
    },
    {
      "cell_type": "markdown",
      "metadata": {
        "id": "ZIdPcSWzB0G1"
      },
      "source": [
        "## Binary Search Algorithm"
      ]
    },
    {
      "cell_type": "code",
      "execution_count": 11,
      "metadata": {
        "id": "IvaUUPIe-2fN"
      },
      "outputs": [],
      "source": [
        "def game_core_v3(number: int = 1) -> int:\n",
        "    \"\"\"\n",
        "    Args:\n",
        "        number (int, optional): The number which should be eventually predicted by the program. Defaults to 1.\n",
        "\n",
        "    Returns:\n",
        "        int: A number of attempts to predict the outcome\n",
        "    \"\"\"\n",
        "    # The code starts here\n",
        "\n",
        "    count = 0 # initial number of attempts to predict the outcome\n",
        "    min = 0 # set minimum\n",
        "    max = 101 # set minimum\n",
        "    \n",
        "    predict = np.random.randint(min, max) # random number of attempts to predict the outcome\n",
        "    \n",
        "    while True: # loop until the program guesses the number \n",
        "      count += 1 # number of attempts to predict the outcome\n",
        "      if number > predict: # if the number of attempts to predict the outcome is less than the number of attempts\n",
        "          min = predict # min equals the predicted number\n",
        "      elif number < predict: # if the number of attempts to predict the outcome is more than the number of attempts\n",
        "          max = predict # max equals the predicted number\n",
        "    \n",
        "    # The code ends here\n",
        "    \n",
        "      return count # return the number of attempts to predict the outcome"
      ]
    },
    {
      "cell_type": "code",
      "execution_count": null,
      "metadata": {},
      "outputs": [],
      "source": []
    },
    {
      "cell_type": "markdown",
      "metadata": {
        "id": "UDeCIsG9CACE"
      },
      "source": [
        "Let's evaluate the quality of our algorithm:"
      ]
    },
    {
      "cell_type": "code",
      "execution_count": 12,
      "metadata": {
        "id": "giSKBUmgCAeh"
      },
      "outputs": [
        {
          "name": "stdout",
          "output_type": "stream",
          "text": [
            "Run benchmarking for game_core_v3: Your algorithm guesses the number in an average of 1 attempts\n"
          ]
        }
      ],
      "source": [
        "print('Run benchmarking for game_core_v3: ', end='')\n",
        "score_game(game_core_v3)"
      ]
    }
  ],
  "metadata": {
    "colab": {
      "provenance": []
    },
    "interpreter": {
      "hash": "09714a52f69239c6409b3d073f9f3ca0ddb4056fc648d88f7346d3f36a5c4020"
    },
    "kernelspec": {
      "display_name": "Python 3.7.7 64-bit ('ds': conda)",
      "name": "python3"
    },
    "language_info": {
      "codemirror_mode": {
        "name": "ipython",
        "version": 3
      },
      "file_extension": ".py",
      "mimetype": "text/x-python",
      "name": "python",
      "nbconvert_exporter": "python",
      "pygments_lexer": "ipython3",
      "version": "3.10.4"
    },
    "orig_nbformat": 4
  },
  "nbformat": 4,
  "nbformat_minor": 0
}
